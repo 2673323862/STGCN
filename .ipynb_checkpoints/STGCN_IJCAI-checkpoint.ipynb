{
 "cells": [
  {
   "cell_type": "code",
   "execution_count": 1,
   "metadata": {},
   "outputs": [],
   "source": [
    "import mxnet as mx\n",
    "from mxnet import nd\n",
    "import networkx as nx\n",
    "import numpy as np\n",
    "import random"
   ]
  },
  {
   "cell_type": "code",
   "execution_count": 2,
   "metadata": {},
   "outputs": [],
   "source": [
    "from mxnet import autograd"
   ]
  },
  {
   "cell_type": "code",
   "execution_count": 3,
   "metadata": {},
   "outputs": [],
   "source": [
    "from mxnet.gluon import Trainer\n",
    "from mxnet.gluon import Parameter\n",
    "from mxnet.gluon import ParameterDict"
   ]
  },
  {
   "cell_type": "code",
   "execution_count": 4,
   "metadata": {},
   "outputs": [],
   "source": [
    "from mxnet.ndarray.linalg import syevd"
   ]
  },
  {
   "cell_type": "code",
   "execution_count": 5,
   "metadata": {},
   "outputs": [],
   "source": [
    "import matplotlib.pyplot as plt\n",
    "%matplotlib inline"
   ]
  },
  {
   "cell_type": "code",
   "execution_count": 6,
   "metadata": {},
   "outputs": [
    {
     "data": {
      "image/png": "[encoded data removed]",
      "text/plain": [
       "<Figure size 432x288 with 1 Axes>"
      ]
     },
     "metadata": {},
     "output_type": "display_data"
    }
   ],
   "source": [
    "g = nx.Graph()\n",
    "g.add_edge(1, 2)\n",
    "g.add_edge(2, 3)\n",
    "g.add_edge(3, 4)\n",
    "g.add_edge(2, 4)\n",
    "g.add_edge(4, 5)\n",
    "g.add_edge(2, 6)\n",
    "g.add_edge(4, 6)\n",
    "nx.draw_networkx(g)"
   ]
  },
  {
   "cell_type": "markdown",
   "metadata": {},
   "source": [
    "A是邻接矩阵"
   ]
  },
  {
   "cell_type": "code",
   "execution_count": 7,
   "metadata": {},
   "outputs": [],
   "source": [
    "def get_D(A):\n",
    "    '''\n",
    "    get degree matrix of A\n",
    "    '''\n",
    "    D = nd.zeros_like(A)\n",
    "    for i in range(D.shape[0]):\n",
    "        D[i, i] = nd.sum(A[:, i])\n",
    "    return D\n",
    "\n",
    "def get_D_(D):\n",
    "    '''\n",
    "    get D^(-frac{1}{2})\n",
    "    '''\n",
    "    D_ = nd.zeros_like(D, dtype = 'np.float32')\n",
    "    for i in range(D_.shape[0]):\n",
    "        if D[i, i] == 0:\n",
    "            D_[i, i] = 1e-9 ** (-0.5)\n",
    "        else:\n",
    "            D_[i, i] = D[i, i] ** (-0.5)\n",
    "    return D_\n",
    "\n",
    "def get_L(A):\n",
    "    '''\n",
    "    get Laplacian, L = I_n−D^{−1/2}AD^{−1/2}\n",
    "    '''\n",
    "    D = get_D(A)\n",
    "    D_ = get_D_(D)\n",
    "    L = nd.array(np.diag(np.ones(A.shape[0]))) - nd.dot(nd.dot(D_, A), D_)\n",
    "    return L\n",
    "\n",
    "def get_D_wave(W_wave):\n",
    "    t = nd.zeros_like(W_wave)\n",
    "    for i in range(W_wave.shape[0]):\n",
    "        t[i, i] = W_wave.sum(axis = 0)[i]\n",
    "    return t"
   ]
  },
  {
   "cell_type": "code",
   "execution_count": 8,
   "metadata": {},
   "outputs": [],
   "source": [
    "def convolution(X, Theta):\n",
    "    '''\n",
    "    Parameters\n",
    "    ----------\n",
    "    X: nd.array, feature matrix, shape of it is (N \\times C)\n",
    "    \n",
    "    Theta: nd.array, kernel, shape of it is (C \\times F)\n",
    "    \n",
    "    Returns\n",
    "    ----------\n",
    "    Z: nd.array, shape of it is (N \\times F)\n",
    "    '''\n",
    "    Z = nd.relu(nd.dot(nd.dot(A_hat, X), Theta))\n",
    "    return Z"
   ]
  },
  {
   "cell_type": "code",
   "execution_count": 9,
   "metadata": {},
   "outputs": [],
   "source": [
    "def forward():\n",
    "    out1 = convolution(X, Theta1.data())\n",
    "    out2 = convolution(out1, Theta2.data())\n",
    "    return out2"
   ]
  },
  {
   "cell_type": "code",
   "execution_count": 10,
   "metadata": {},
   "outputs": [],
   "source": [
    "embedding_size = 200\n",
    "num_kernels1 = 50\n",
    "num_kernels2 = 1"
   ]
  },
  {
   "cell_type": "code",
   "execution_count": 11,
   "metadata": {},
   "outputs": [],
   "source": [
    "# A = nx.adjacency_matrix(g).toarray()\n",
    "# A = nd.array(A)\n",
    "A = nd.random_uniform(low = 0, high = 2, shape = (1000, 1000)).astype('int').astype('float32')\n",
    "X = nd.random_uniform(shape = (A.shape[0], embedding_size))\n",
    "target = nd.random_uniform(shape = (A.shape[0], 1))\n",
    "\n",
    "A_wave = A + nd.array(np.diag(np.ones(A.shape[0])))\n",
    "D_wave = get_D_wave(A_wave)\n",
    "D_wave_ = get_D_(D_wave)\n",
    "A_hat = nd.dot(nd.dot(D_wave_, A_wave), D_wave_)"
   ]
  },
  {
   "cell_type": "code",
   "execution_count": 12,
   "metadata": {},
   "outputs": [],
   "source": [
    "Theta1 = Parameter('Theta1', shape = (embedding_size, num_kernels1), init = mx.init.Xavier())\n",
    "Theta2 = Parameter('Theta2', shape = (num_kernels1, num_kernels2), init = mx.init.Xavier())\n",
    "Theta1.initialize()\n",
    "Theta2.initialize()"
   ]
  },
  {
   "cell_type": "code",
   "execution_count": 13,
   "metadata": {},
   "outputs": [],
   "source": [
    "trainer = Trainer((Theta1, Theta2), 'adam', {'learning_rate': 5e-4})"
   ]
  },
  {
   "cell_type": "code",
   "execution_count": 14,
   "metadata": {},
   "outputs": [],
   "source": [
    "def loss(output, target):\n",
    "    return nd.sum((output - target) ** 2)"
   ]
  },
  {
   "cell_type": "code",
   "execution_count": 15,
   "metadata": {},
   "outputs": [
    {
     "name": "stdout",
     "output_type": "stream",
     "text": [
      "321.996\n",
      "321.996\n",
      "321.996\n",
      "321.996\n",
      "321.996\n",
      "321.996\n",
      "321.996\n",
      "321.996\n",
      "321.996\n",
      "321.996\n",
      "321.996\n",
      "321.996\n",
      "321.996\n",
      "321.996\n",
      "321.996\n",
      "321.996\n",
      "321.996\n",
      "321.996\n",
      "321.996\n",
      "321.996\n",
      "321.996\n",
      "321.996\n",
      "321.996\n",
      "321.996\n",
      "321.996\n",
      "321.996\n",
      "321.996\n",
      "321.996\n",
      "321.996\n",
      "321.996\n"
     ]
    }
   ],
   "source": [
    "loss_list = []\n",
    "for i in range(30):\n",
    "    with autograd.record():\n",
    "        out2 = forward()\n",
    "        l = loss(out2, target)\n",
    "    l.backward()\n",
    "    loss_list.append(l.asscalar())\n",
    "    print(loss_list[-1])\n",
    "    trainer.step(A.shape[0])"
   ]
  },
  {
   "cell_type": "code",
   "execution_count": 16,
   "metadata": {},
   "outputs": [
    {
     "data": {
      "text/plain": [
       "[<matplotlib.lines.Line2D at 0x17a04db0160>]"
      ]
     },
     "execution_count": 16,
     "metadata": {},
     "output_type": "execute_result"
    },
    {
     "data": {
      "image/png": "[encoded data removed]",
      "text/plain": [
       "<Figure size 432x288 with 1 Axes>"
      ]
     },
     "metadata": {},
     "output_type": "display_data"
    }
   ],
   "source": [
    "plt.plot(loss_list)"
   ]
  },
  {
   "cell_type": "code",
   "execution_count": null,
   "metadata": {},
   "outputs": [],
   "source": []
  }
 ],
 "metadata": {
  "kernelspec": {
   "display_name": "Python 3",
   "language": "python",
   "name": "python3"
  },
  "language_info": {
   "codemirror_mode": {
    "name": "ipython",
    "version": 3
   },
   "file_extension": ".py",
   "mimetype": "text/x-python",
   "name": "python",
   "nbconvert_exporter": "python",
   "pygments_lexer": "ipython3",
   "version": "3.6.5"
  }
 },
 "nbformat": 4,
 "nbformat_minor": 2
}
