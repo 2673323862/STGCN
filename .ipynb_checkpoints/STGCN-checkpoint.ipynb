{
 "cells": [
  {
   "cell_type": "code",
   "execution_count": 1,
   "metadata": {},
   "outputs": [],
   "source": [
    "import mxnet as mx\n",
    "from mxnet import nd\n",
    "\n",
    "import numpy as np"
   ]
  },
  {
   "cell_type": "code",
   "execution_count": 7,
   "metadata": {},
   "outputs": [],
   "source": [
    "def get_D(W):\n",
    "    D = nd.zeros_like(W)\n",
    "    for i in range(D.shape[0]):\n",
    "        D[i, i] = nd.sum(W[:, i]) + nd.sum(W[i, :])\n",
    "    return D"
   ]
  },
  {
   "cell_type": "code",
   "execution_count": 3,
   "metadata": {},
   "outputs": [
    {
     "data": {
      "text/plain": [
       "\n",
       "[[  0.   4.   2.   1.  11.]\n",
       " [ 15.   0.  23.   5.  26.]\n",
       " [ 12.   5.   0.   1.   3.]\n",
       " [  4.   5.  27.   0.   6.]\n",
       " [ 18.  11.   0.  25.   0.]]\n",
       "<NDArray 5x5 @cpu(0)>"
      ]
     },
     "execution_count": 3,
     "metadata": {},
     "output_type": "execute_result"
    }
   ],
   "source": [
    "W = (nd.random_normal(shape = (5, 5)) * 10).astype('int32').abs().astype('float32')\n",
    "for i in range(W.shape[0]):\n",
    "    W[i,i] = 0\n",
    "W"
   ]
  },
  {
   "cell_type": "code",
   "execution_count": 4,
   "metadata": {},
   "outputs": [
    {
     "data": {
      "text/plain": [
       "\n",
       "[[  67.    0.    0.    0.    0.]\n",
       " [   0.   94.    0.    0.    0.]\n",
       " [   0.    0.   73.    0.    0.]\n",
       " [   0.    0.    0.   74.    0.]\n",
       " [   0.    0.    0.    0.  100.]]\n",
       "<NDArray 5x5 @cpu(0)>"
      ]
     },
     "execution_count": 4,
     "metadata": {},
     "output_type": "execute_result"
    }
   ],
   "source": [
    "D = nd.zeros_like(W)\n",
    "for i in range(D.shape[0]):\n",
    "    D[i, i] = nd.sum(W[:, i]) + nd.sum(W[i, :])\n",
    "D"
   ]
  },
  {
   "cell_type": "code",
   "execution_count": 5,
   "metadata": {},
   "outputs": [
    {
     "data": {
      "text/plain": [
       "\n",
       "[[ 0.12216944  0.          0.          0.          0.        ]\n",
       " [ 0.          0.10314213  0.          0.          0.        ]\n",
       " [ 0.          0.          0.11704115  0.          0.        ]\n",
       " [ 0.          0.          0.          0.11624764  0.        ]\n",
       " [ 0.          0.          0.          0.          0.1       ]]\n",
       "<NDArray 5x5 @cpu(0)>"
      ]
     },
     "execution_count": 5,
     "metadata": {},
     "output_type": "execute_result"
    }
   ],
   "source": [
    "D_ = nd.zeros_like(D)\n",
    "for i in range(D_.shape[0]):\n",
    "    D_[i, i] = D[i, i] ** (-0.5)\n",
    "D_"
   ]
  },
  {
   "cell_type": "code",
   "execution_count": 6,
   "metadata": {},
   "outputs": [
    {
     "data": {
      "text/plain": [
       "\n",
       "[[ 1.         -0.05040326 -0.0285977  -0.01420191 -0.13438639]\n",
       " [-0.18901224  1.         -0.27765307 -0.05995015 -0.26816952]\n",
       " [-0.17158623 -0.06035936  1.         -0.01360576 -0.03511235]\n",
       " [-0.05680764 -0.05995015 -0.36735544  1.         -0.06974858]\n",
       " [-0.219905   -0.11345635  0.         -0.29061911  1.        ]]\n",
       "<NDArray 5x5 @cpu(0)>"
      ]
     },
     "execution_count": 6,
     "metadata": {},
     "output_type": "execute_result"
    }
   ],
   "source": [
    "L = nd.array(np.diag(np.ones(5))) - nd.dot(nd.dot(D_, W), D_)\n",
    "L"
   ]
  },
  {
   "cell_type": "code",
   "execution_count": null,
   "metadata": {},
   "outputs": [],
   "source": []
  }
 ],
 "metadata": {
  "kernelspec": {
   "display_name": "Python 3",
   "language": "python",
   "name": "python3"
  },
  "language_info": {
   "codemirror_mode": {
    "name": "ipython",
    "version": 3
   },
   "file_extension": ".py",
   "mimetype": "text/x-python",
   "name": "python",
   "nbconvert_exporter": "python",
   "pygments_lexer": "ipython3",
   "version": "3.6.5"
  }
 },
 "nbformat": 4,
 "nbformat_minor": 2
}
